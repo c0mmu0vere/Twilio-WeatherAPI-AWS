{
 "cells": [
  {
   "cell_type": "code",
   "execution_count": 3,
   "metadata": {},
   "outputs": [],
   "source": [
    "import os\n",
    "from twilio.rest import Client\n",
    "from twilio_config import *\n",
    "import time\n",
    "\n",
    "from requests import Request, Session\n",
    "from requests.exceptions import ConnectionError, Timeout, TooManyRedirects\n",
    "import json\n",
    "\n",
    "\n",
    "import pandas as pd\n",
    "import requests\n",
    "from tqdm import tqdm\n",
    "\n",
    "from datetime import datetime\n"
   ]
  },
  {
   "attachments": {},
   "cell_type": "markdown",
   "metadata": {},
   "source": [
    "# URL Creation\n",
    "Here we will create the url with which we will execute our requests to Weather API. Here we will create the url with which we will execute our requests to Weather API. We will save the response from the API in a \"response\" variable to later analyze it and obtain from it the data we need"
   ]
  },
  {
   "cell_type": "code",
   "execution_count": 4,
   "metadata": {},
   "outputs": [],
   "source": [
    "query = 'Argentina'\n",
    "api_key = API_KEY_WAPI\n",
    "\n",
    "url_clima = 'http://api.weatherapi.com/v1/forecast.json?key='+api_key+'&q='+query+'&days=1&aqi=no&alerts=no'"
   ]
  },
  {
   "cell_type": "code",
   "execution_count": 5,
   "metadata": {},
   "outputs": [],
   "source": [
    "response = requests.get(url_clima).json()"
   ]
  },
  {
   "cell_type": "code",
   "execution_count": null,
   "metadata": {},
   "outputs": [],
   "source": [
    "response"
   ]
  },
  {
   "cell_type": "code",
   "execution_count": null,
   "metadata": {},
   "outputs": [],
   "source": [
    "response.keys()"
   ]
  },
  {
   "cell_type": "code",
   "execution_count": null,
   "metadata": {},
   "outputs": [],
   "source": [
    "response['forecast']['forecastday'][0].keys()"
   ]
  },
  {
   "cell_type": "code",
   "execution_count": null,
   "metadata": {},
   "outputs": [],
   "source": [
    "len(response['forecast']['forecastday'][0]['hour'])"
   ]
  },
  {
   "cell_type": "code",
   "execution_count": null,
   "metadata": {},
   "outputs": [],
   "source": [
    "response['forecast']['forecastday'][0]['hour'][0]"
   ]
  },
  {
   "cell_type": "code",
   "execution_count": null,
   "metadata": {},
   "outputs": [],
   "source": [
    "response['forecast']['forecastday'][0]['hour'][0]['time'].split()[0]"
   ]
  },
  {
   "cell_type": "code",
   "execution_count": null,
   "metadata": {},
   "outputs": [],
   "source": [
    "response['forecast']['forecastday'][0]['hour'][0]['time'].split()[1].split(':')[0]"
   ]
  },
  {
   "cell_type": "code",
   "execution_count": null,
   "metadata": {},
   "outputs": [],
   "source": [
    "response['forecast']['forecastday'][0]['hour'][0]['condition']['text']"
   ]
  },
  {
   "cell_type": "code",
   "execution_count": null,
   "metadata": {},
   "outputs": [],
   "source": [
    "response['forecast']['forecastday'][0]['hour'][0]['temp_c']"
   ]
  },
  {
   "cell_type": "code",
   "execution_count": null,
   "metadata": {},
   "outputs": [],
   "source": [
    "response['forecast']['forecastday'][0]['hour'][0]['will_it_rain']"
   ]
  },
  {
   "cell_type": "code",
   "execution_count": null,
   "metadata": {},
   "outputs": [],
   "source": [
    "response['forecast']['forecastday'][0]['hour'][0]['chance_of_rain']"
   ]
  },
  {
   "attachments": {},
   "cell_type": "markdown",
   "metadata": {},
   "source": [
    "# Dataframe\n",
    "Here we will create a dataframe from a function that will return the data that interests us from the API response. Each iteration of the loop will save the data in an empty list until the 24 hours of the day are complete and a list of 24 tuples is obtained. With these new data we will create a pandas dataframe from which we will obtain some fields of interest. Then we will place those fields in the message that we want Twilio to send us."
   ]
  },
  {
   "cell_type": "code",
   "execution_count": 17,
   "metadata": {},
   "outputs": [],
   "source": [
    "def get_forecast(response,i):\n",
    "    \n",
    "    date = response['forecast']['forecastday'][0]['hour'][i]['time'].split()[0]\n",
    "    time = int(response['forecast']['forecastday'][0]['hour'][i]['time'].split()[1].split(':')[0])\n",
    "    condition = response['forecast']['forecastday'][0]['hour'][i]['condition']['text']\n",
    "    temp_c = float(response['forecast']['forecastday'][0]['hour'][i]['temp_c'])\n",
    "    will_it_rain = response['forecast']['forecastday'][0]['hour'][i]['will_it_rain']\n",
    "    chance_of_rain = response['forecast']['forecastday'][0]['hour'][i]['chance_of_rain']\n",
    "    \n",
    "    return date,time,condition,temp_c,will_it_rain, chance_of_rain"
   ]
  },
  {
   "cell_type": "code",
   "execution_count": null,
   "metadata": {},
   "outputs": [],
   "source": [
    "datos = []\n",
    "\n",
    "for i in tqdm(range(len(response['forecast']['forecastday'][0]['hour'])),colour = 'green'):\n",
    "    \n",
    "    datos.append(get_forecast(response,i))"
   ]
  },
  {
   "cell_type": "code",
   "execution_count": null,
   "metadata": {},
   "outputs": [],
   "source": [
    "datos"
   ]
  },
  {
   "cell_type": "code",
   "execution_count": null,
   "metadata": {},
   "outputs": [],
   "source": [
    "col = ['Date','Time','Condition','Temperature','Rain','rain_chance']\n",
    "df = pd.DataFrame(datos,columns=col)\n",
    "df = df.sort_values(by = 'Time',ascending = True)\n",
    "df"
   ]
  },
  {
   "cell_type": "code",
   "execution_count": 21,
   "metadata": {},
   "outputs": [],
   "source": [
    "today = df['Date'][0]\n",
    "temp_max = df['Temperature'].max()\n",
    "temp_min = df['Temperature'].min()\n",
    "rain_hours = df[(df['Rain']==1)]\n",
    "rain_hours = ', '.join(str(x) for x in rain_hours['Time'])\n",
    "\n",
    "if df['Condition'].value_counts().idxmax() == 'Clear':\n",
    "    day_forecast = df['Condition'].value_counts().idxmax() + ' ' + str(chr(0x1F308))\n",
    "elif df['Condition'].value_counts().idxmax() == 'Partly cloudy':\n",
    "    day_forecast = df['Condition'].value_counts().idxmax() + ' ' + str(chr(0x26C5))\n",
    "elif df['Condition'].value_counts().idxmax() == 'Sunny':\n",
    "    day_forecast = df['Condition'].value_counts().idxmax() + ' ' + str(chr(0x2600))\n",
    "elif df['Condition'].value_counts().idxmax() == 'Patchy rain possible':\n",
    "    day_forecast = df['Condition'].value_counts().idxmax() + ' ' + str(chr(0x1F326))"
   ]
  },
  {
   "cell_type": "code",
   "execution_count": null,
   "metadata": {},
   "outputs": [],
   "source": [
    "summary = f\"Summary of weather for Buenos Aires, {query}:\\n\" \\\n",
    "        f\"Date: {today} {chr(0x1F4C5)}\\n\" \\\n",
    "        f\"The maximum temperature will be: {temp_max} °C {chr(0x1F4C8)}\\n\" \\\n",
    "        f\"The minimum temperature will be: {temp_min} °C {chr(0x1F4C9)}\\n\" \\\n",
    "        f\"Today's forecast is: {day_forecast}\\n\" \\\n",
    "        f\"The hours at which rain is forecast will be: {rain_hours if rain_hours else 'None'} {chr(0x2614)}\\n\" \\\n",
    "\n",
    "print(summary)"
   ]
  },
  {
   "cell_type": "code",
   "execution_count": null,
   "metadata": {},
   "outputs": [],
   "source": [
    "PHONE_NUMBER"
   ]
  },
  {
   "attachments": {},
   "cell_type": "markdown",
   "metadata": {},
   "source": [
    "# SMS message from Twilio\n",
    "What we do here is connect to our client account on Twilio and then define a message, where we will include our weather summary message, the phone number we have on twilio and our own phone number. "
   ]
  },
  {
   "cell_type": "code",
   "execution_count": 25,
   "metadata": {},
   "outputs": [
    {
     "name": "stdout",
     "output_type": "stream",
     "text": [
      "Message Sent SM46f9c72a0eb28153df65f44537d71ce0\n"
     ]
    }
   ],
   "source": [
    "time.sleep(2)\n",
    "account_sid = TWILIO_ACCOUNT_SID\n",
    "auth_token = TWILIO_AUTH_TOKEN\n",
    "\n",
    "client = Client(account_sid, auth_token)\n",
    "\n",
    "message = client.messages \\\n",
    "                .create(\n",
    "                    body=summary,\n",
    "                    from_=PHONE_NUMBER,\n",
    "                    to=MY_NUMBER\n",
    "                )\n",
    "\n",
    "print('Message Sent ' + message.sid)"
   ]
  },
  {
   "attachments": {},
   "cell_type": "markdown",
   "metadata": {},
   "source": [
    "# Result \n",
    "\n",
    "* The message is sent from our twilio phone number to our cell phone\n",
    "\n",
    "<img src=\"WhatsApp Image 2023-07-02 at 16.44.36.jpeg\" />"
   ]
  }
 ],
 "metadata": {
  "kernelspec": {
   "display_name": "Python 3 (ipykernel)",
   "language": "python",
   "name": "python3"
  },
  "language_info": {
   "codemirror_mode": {
    "name": "ipython",
    "version": 3
   },
   "file_extension": ".py",
   "mimetype": "text/x-python",
   "name": "python",
   "nbconvert_exporter": "python",
   "pygments_lexer": "ipython3",
   "version": "3.10.11"
  }
 },
 "nbformat": 4,
 "nbformat_minor": 4
}
